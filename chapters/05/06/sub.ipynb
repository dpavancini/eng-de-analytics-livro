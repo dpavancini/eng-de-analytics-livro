{
 "cells": [
  {
   "cell_type": "code",
   "execution_count": 1,
   "metadata": {
    "tags": [
     "remove-cell"
    ]
   },
   "outputs": [
    {
     "name": "stdout",
     "output_type": "stream",
     "text": [
      "/home/danielavancini/Projects/eng-analytics/chapters/05/06\n"
     ]
    }
   ],
   "source": [
    "# Altera caminho para manter padrão com Jupyter Book\n",
    "%cd chapters/05/06/"
   ]
  },
  {
   "cell_type": "markdown",
   "metadata": {},
   "source": [
    "## Subqueries e CTE\n",
    "As subqueries (ou subconsultas) são instruções SELECT utilizadas dentro de outras consultas SELECT. Se inicialmente podem parecer confusas, entendê-las é essencial para criar análises complexas em SQL. Como implicado no seu nome, as subqueries contém uma ou mais consultas dentro de si mesmas.  Elas podem ser usadas dentro de diferentes predicados SQL como SELECT, FROM, WHERE ou HAVING e também podem retornar tanto um valor único como uma lista de valores. \n",
    "\n",
    "Para facilitar o entendimento, podemos separar as subqueries em diferentes consultas e considerar que as consultas internas são sempre executadas antes das externas. Por exemplo, vamos supor que o gerente comercial da Northwind quer saber quais pedidos tiveram um ticket médio acima da média. Primeiro, o subtotal de cada pedido precisa ser calcular a partir da tabela de Pedido Item (`OrderDetail`):\n"
   ]
  },
  {
   "cell_type": "code",
   "execution_count": 2,
   "metadata": {},
   "outputs": [],
   "source": [
    "# Vamos utilizar a extensão ipython-sql junto com o pacote SQLAlchemy para rodar consultas SQL diretamente\n",
    "from sqlalchemy import create_engine\n",
    "path_data = '../../assets/data/'\n",
    "%load_ext sql\n",
    "%config SqlMagic.displaycon=False\n",
    "%config SqlMagic.feedback=False\n",
    "\n",
    "# Agora dizemos para a extensão do ipython-sql onde estão os dados\n",
    "%sql sqlite:///../../../assets/data/northwind.sqlite"
   ]
  },
  {
   "cell_type": "code",
   "execution_count": 6,
   "metadata": {},
   "outputs": [
    {
     "data": {
      "text/html": [
       "<table>\n",
       "    <tr>\n",
       "        <th>OrderId</th>\n",
       "        <th>subtotal</th>\n",
       "    </tr>\n",
       "    <tr>\n",
       "        <td>10248</td>\n",
       "        <td>440.0</td>\n",
       "    </tr>\n",
       "    <tr>\n",
       "        <td>10249</td>\n",
       "        <td>1863.4</td>\n",
       "    </tr>\n",
       "    <tr>\n",
       "        <td>10250</td>\n",
       "        <td>1813.0</td>\n",
       "    </tr>\n",
       "    <tr>\n",
       "        <td>10251</td>\n",
       "        <td>670.8</td>\n",
       "    </tr>\n",
       "    <tr>\n",
       "        <td>10252</td>\n",
       "        <td>3730.0</td>\n",
       "    </tr>\n",
       "</table>"
      ],
      "text/plain": [
       "[(10248, 440.0),\n",
       " (10249, 1863.4),\n",
       " (10250, 1813.0),\n",
       " (10251, 670.8),\n",
       " (10252, 3730.0)]"
      ]
     },
     "execution_count": 6,
     "metadata": {},
     "output_type": "execute_result"
    }
   ],
   "source": [
    "%%sql\n",
    "SELECT OrderId, SUM(UnitPrice * Quantity) AS subtotal\n",
    "FROM 'OrderDetail'\n",
    "GROUP BY OrderId\n",
    "LIMIT 5;\n"
   ]
  },
  {
   "cell_type": "markdown",
   "metadata": {},
   "source": [
    "Para calcular o ticket médio dos pedidos, precisamos então computar a média do subtotal, utilizando a consulta acima como uma subquery:"
   ]
  },
  {
   "cell_type": "code",
   "execution_count": 7,
   "metadata": {},
   "outputs": [
    {
     "data": {
      "text/html": [
       "<table>\n",
       "    <tr>\n",
       "        <th>ticket_medio</th>\n",
       "    </tr>\n",
       "    <tr>\n",
       "        <td>1631.877819277109</td>\n",
       "    </tr>\n",
       "</table>"
      ],
      "text/plain": [
       "[(1631.877819277109,)]"
      ]
     },
     "execution_count": 7,
     "metadata": {},
     "output_type": "execute_result"
    }
   ],
   "source": [
    "%%sql\n",
    "\n",
    "SELECT AVG(subtotal) AS ticket_medio \n",
    "FROM (\n",
    " \tSELECT OrderId, SUM(UnitPrice * Quantity) AS subtotal\n",
    " \tFROM 'OrderDetail'\n",
    " \tGROUP BY OrderId\n",
    ");\n"
   ]
  },
  {
   "cell_type": "markdown",
   "metadata": {},
   "source": [
    "Por fim, precisamos usar a subquery que computa o ticket médio dentro de outra consulta como parte do filtro, afinal queremos saber os pedidos que tiveram valor acima do ticket médio. Neste caso, três subqueries são necessárias: a query para calcular o subtotal dos pedidos é usada duas vezes e outra subquery é usada para calcular a média dos pedidos:"
   ]
  },
  {
   "cell_type": "code",
   "execution_count": 17,
   "metadata": {},
   "outputs": [
    {
     "data": {
      "text/html": [
       "<table>\n",
       "    <tr>\n",
       "        <th>OrderId</th>\n",
       "        <th>subtotal</th>\n",
       "    </tr>\n",
       "    <tr>\n",
       "        <td>10249</td>\n",
       "        <td>1863.4</td>\n",
       "    </tr>\n",
       "    <tr>\n",
       "        <td>10250</td>\n",
       "        <td>1813.0</td>\n",
       "    </tr>\n",
       "    <tr>\n",
       "        <td>10252</td>\n",
       "        <td>3730.0</td>\n",
       "    </tr>\n",
       "    <tr>\n",
       "        <td>10255</td>\n",
       "        <td>2490.5</td>\n",
       "    </tr>\n",
       "    <tr>\n",
       "        <td>10258</td>\n",
       "        <td>2018.6</td>\n",
       "    </tr>\n",
       "</table>"
      ],
      "text/plain": [
       "[(10249, 1863.4),\n",
       " (10250, 1813.0),\n",
       " (10252, 3730.0),\n",
       " (10255, 2490.5),\n",
       " (10258, 2018.6)]"
      ]
     },
     "execution_count": 17,
     "metadata": {},
     "output_type": "execute_result"
    }
   ],
   "source": [
    "%%sql\n",
    "SELECT OrderId, subtotal FROM (\n",
    "SELECT OrderId, SUM(UnitPrice * Quantity) AS subtotal\n",
    " FROM 'OrderDetail' \n",
    " GROUP BY OrderId\n",
    ") \n",
    "WHERE subtotal > (\n",
    " SELECT AVG(subtotal) AS ticket_medio FROM (\n",
    " \tSELECT OrderId, SUM(UnitPrice * Quantity) AS subtotal\n",
    " \tFROM 'OrderDetail'\n",
    " \tGROUP BY OrderId\n",
    " ))\n",
    " LIMIT 5\n"
   ]
  },
  {
   "cell_type": "markdown",
   "metadata": {},
   "source": [
    "Mesmo neste exemplo simples já é possível notar que o uso das subqueries pode facilmente se tornar de difícil entendimento. Uma nova subquery poderia ser usada por exemplo para calcular a quantidade de pedidos acima do ticket médio, adicionando mais um nível na consulta.  Para facilitar a criação de consultas complexas, alguns bancos de dados permitem o uso das chamadas CTEs (*Common Table Expressions*), que são uma forma de “salvar” resultados de consultas para serem usados posteriormente dentro de outra consulta. A estrutura básica de uma CTE é a seguinte:\n",
    "\n",
    "```sql\n",
    "WITH nome_da_cte AS (\n",
    "  (Consulta SELECT)\n",
    ")\n",
    "```\n",
    "Para executar uma CTE precisamos chamá-la em uma ou mais consultas SELECT como se fosse uma tabela:\n",
    "\n",
    "```sql\n",
    "SELECT * FROM nome_da_cte\n",
    "```\n",
    "\n",
    "Também é possível criar diversas CTE’s em sequência. No exemplo anterior podemos usar algumas  CTEs para salvar as nossas subqueries e facilitar o entendimento da consulta. Nota-se como uma CTE pode ser usada tanto como parte de outra (FROM) como na consulta final, por sua vez muito mais clara que na versão com subqueries:\n",
    "\n",
    "O conhecimento de subqueries e CTEs dá a capacidade de criar consultas complexas em SQL e gerar análises avançadas para a tomada de decisão ou transformar dados com robustez.  Embora extremamente flexíveis, ambas também podem se tornar  muito ineficientes. Na prática, as CTEs são geralmente preferíveis às subqueries devido a sua maior facilidade de entendimento, principalmente em projetos em equipe. Para os fins de análise de dados, o custo em horas de trabalho para entender uma consulta complexa feita por outra pessoa é na grande maioria dos casos maior que a perda de alguns segundos ou minutos em uma consulta ineficiente.\n",
    "SQL é uma linguagem rica e com enormes possibilidades. Dominá-lo permite ao analytics engineer se diferenciar na sua capacidade de analisar e transformar dados.  O objetivo deste capítulo foi dar as bases para esse aprendizado. Na parte 3 vamos colocar esse conhecimento em prática na transformação de dados.\n"
   ]
  }
 ],
 "metadata": {
  "kernelspec": {
   "display_name": "Python 3.9.5 ('venv': venv)",
   "language": "python",
   "name": "python3"
  },
  "language_info": {
   "codemirror_mode": {
    "name": "ipython",
    "version": 3
   },
   "file_extension": ".py",
   "mimetype": "text/x-python",
   "name": "python",
   "nbconvert_exporter": "python",
   "pygments_lexer": "ipython3",
   "version": "3.9.5"
  },
  "orig_nbformat": 4,
  "vscode": {
   "interpreter": {
    "hash": "1f018ec1ba574647514081dcb490c63f68e342ee5f5450c4501934abf117bfd5"
   }
  }
 },
 "nbformat": 4,
 "nbformat_minor": 2
}
