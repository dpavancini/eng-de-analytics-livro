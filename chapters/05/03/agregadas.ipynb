{
 "cells": [
  {
   "cell_type": "code",
   "execution_count": 2,
   "metadata": {
    "tags": [
     "remove-cell"
    ]
   },
   "outputs": [
    {
     "name": "stdout",
     "output_type": "stream",
     "text": [
      "/home/danielavancini/Projects/eng-analytics/chapters/05/03\n"
     ]
    }
   ],
   "source": [
    "# HIDDEN\n",
    "# Altera caminho para manter padrão com Jupyter Book\n",
    "%cd chapters/05/03/"
   ]
  },
  {
   "cell_type": "markdown",
   "metadata": {},
   "source": [
    "# 5.3 Funções Agregadas \n",
    "\n",
    "As funções agregadas são essenciais para o analista de dados. Elas permitem reduzir ou agregar uma série de campos para um único valor ou alguns poucos valores. Embora seu funcionamento seja muito simples quando analisadas individualmente, sua combinação com os demais comandos do SQL permite realizar consultas extremamente poderosas em grandes volumes de dados. Para utilizar uma função aplicamos ela no atributo que queremos como input e damos um nome para o output utilizando o alias AS:\n",
    "\n",
    "```sql\n",
    "SELECT FUNÇÃO(nome_do_campo) AS nome_output\n",
    "FROM tabela\n",
    "```\n",
    "Por exemplo, se quiséssemos somar as vendas da Northwind de todos os pedidos através da consulta abaixo, obteríamos que a Northwind vendeu uma quantidade total de 51317 unidades:"
   ]
  },
  {
   "cell_type": "code",
   "execution_count": 3,
   "metadata": {
    "tags": [
     "remove-cell"
    ]
   },
   "outputs": [],
   "source": [
    "# HIDDEN\n",
    "# Vamos utilizar a extensão ipython-sql junto com o pacote SQLAlchemy para rodar consultas SQL diretamente\n",
    "from sqlalchemy import create_engine\n",
    "path_data = '../../assets/data/'\n",
    "%load_ext sql\n",
    "%config SqlMagic.displaycon=False\n",
    "%config SqlMagic.feedback=False\n",
    "\n",
    "# Agora dizemos para a extensão do ipython-sql onde estão os dados\n",
    "%sql sqlite:///../../../assets/data/northwind.sqlite"
   ]
  },
  {
   "cell_type": "code",
   "execution_count": 5,
   "metadata": {},
   "outputs": [
    {
     "data": {
      "text/html": [
       "<table>\n",
       "    <tr>\n",
       "        <th>qtd_vendida</th>\n",
       "    </tr>\n",
       "    <tr>\n",
       "        <td>51317</td>\n",
       "    </tr>\n",
       "</table>"
      ],
      "text/plain": [
       "[(51317,)]"
      ]
     },
     "execution_count": 5,
     "metadata": {},
     "output_type": "execute_result"
    }
   ],
   "source": [
    "%%sql\n",
    "\n",
    "SELECT SUM(Quantity) AS qtd_vendida FROM 'OrderDetail'"
   ]
  },
  {
   "cell_type": "markdown",
   "metadata": {},
   "source": [
    "Outra consulta muito comum é a de contagem (`count`), por exemplo, para saber quantos pedidos foram realizados faríamos:"
   ]
  },
  {
   "cell_type": "code",
   "execution_count": 6,
   "metadata": {},
   "outputs": [
    {
     "data": {
      "text/html": [
       "<table>\n",
       "    <tr>\n",
       "        <th>pedidos</th>\n",
       "    </tr>\n",
       "    <tr>\n",
       "        <td>830</td>\n",
       "    </tr>\n",
       "</table>"
      ],
      "text/plain": [
       "[(830,)]"
      ]
     },
     "execution_count": 6,
     "metadata": {},
     "output_type": "execute_result"
    }
   ],
   "source": [
    "%%sql\n",
    "SELECT COUNT(Id) as pedidos FROM 'Order'"
   ]
  },
  {
   "cell_type": "markdown",
   "metadata": {},
   "source": [
    "Em alguns casos, o que importa não é uma simples contagem mas os valores únicos da tabela. Por exemplo, se quiséssemos saber de quantos países nossos clientes vem através de uma contagem da coluna `country` chegaríamos a um valor de 91 países quando na verdade são apenas 21 únicos:"
   ]
  },
  {
   "cell_type": "code",
   "execution_count": 7,
   "metadata": {},
   "outputs": [
    {
     "data": {
      "text/html": [
       "<table>\n",
       "    <tr>\n",
       "        <th>paises</th>\n",
       "        <th>paises_unicos</th>\n",
       "    </tr>\n",
       "    <tr>\n",
       "        <td>91</td>\n",
       "        <td>21</td>\n",
       "    </tr>\n",
       "</table>"
      ],
      "text/plain": [
       "[(91, 21)]"
      ]
     },
     "execution_count": 7,
     "metadata": {},
     "output_type": "execute_result"
    }
   ],
   "source": [
    "%%sql\n",
    "\n",
    "SELECT COUNT(Country) AS paises, COUNT(DISTINCT(Country)) AS paises_unicos\n",
    "FROM 'Customer';"
   ]
  },
  {
   "cell_type": "markdown",
   "metadata": {},
   "source": [
    "As principais funções agregadas em SQL são:\n",
    "\n",
    "| Função          | Descrição                         | Exemplo Sintaxe                                   |\n",
    "|-----------------|-----------------------------------|---------------------------------------------------|\n",
    "| SUM             | Soma os valores da coluna         | SELECT MAX(UnitPrice) FROM Products               |\n",
    "| COUNT           | Conta os valores da coluna        | SELECT COUNT(Id) FROM Products                    |\n",
    "| COUNT(DISTINCT) | Conta os valores únicos da coluna | SELECT COUNT(DISTINCT(ProductName)) FROM Products |\n",
    "| AVG             | Calcula a média                   | SELECT AVG(UnitPrice) FROM Products               |\n",
    "| MAX             | Calcula o valor máximo            | SELECT MAX(UnitPrice) FROM Products               |\n",
    "| MIN             | Calcula o valor mínimo            | SELECT MIN(UnitPrice) FROM Products               |"
   ]
  }
 ],
 "metadata": {
  "kernelspec": {
   "display_name": "Python 3.9.5 ('venv': venv)",
   "language": "python",
   "name": "python3"
  },
  "language_info": {
   "codemirror_mode": {
    "name": "ipython",
    "version": 3
   },
   "file_extension": ".py",
   "mimetype": "text/x-python",
   "name": "python",
   "nbconvert_exporter": "python",
   "pygments_lexer": "ipython3",
   "version": "3.9.5"
  },
  "vscode": {
   "interpreter": {
    "hash": "1f018ec1ba574647514081dcb490c63f68e342ee5f5450c4501934abf117bfd5"
   }
  }
 },
 "nbformat": 4,
 "nbformat_minor": 2
}
