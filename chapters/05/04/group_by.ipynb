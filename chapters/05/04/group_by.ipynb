{
 "cells": [
  {
   "cell_type": "code",
   "execution_count": 3,
   "metadata": {
    "tags": [
     "remove-cell"
    ]
   },
   "outputs": [
    {
     "name": "stdout",
     "output_type": "stream",
     "text": [
      "/home/danielavancini/Projects/eng-analytics/chapters/05/04\n"
     ]
    }
   ],
   "source": [
    "# HIDDEN\n",
    "# Altera caminho para manter padrão com Jupyter Book\n",
    "%cd chapters/05/04/"
   ]
  },
  {
   "cell_type": "markdown",
   "metadata": {},
   "source": [
    "# 5.4 Trabalhando com agrupamentos GROUP BY\n",
    "\n",
    "A técnica de consulta agrupada é uma das técnicas mais utilizadas na análise de dados e permite realizar análises em diferentes níveis de detalhamento como “Qual é a venda por cidade?” ou “Quantos produtos vendemos por cliente” etc. As possibilidades são praticamente infinitas e para isso vamos aprender a utilizar a cláusula `GROUP BY`:\n",
    "\n",
    "```sql\n",
    "SELECT FUNÇÃO(nome_do_campo) AS nome_output\n",
    "FROM tabela\n",
    "GROUP BY <nome_do_campo1,nome_do_campo2, etc..>\n",
    "```\n",
    "\n",
    "Vamos supor por exemplo que estamos interessados em saber quantos clientes tempos por país. Esse é um caso muito comum do `GROUP BY`."
   ]
  },
  {
   "cell_type": "code",
   "execution_count": 4,
   "metadata": {},
   "outputs": [
    {
     "name": "stdout",
     "output_type": "stream",
     "text": [
      "The sql extension is already loaded. To reload it, use:\n",
      "  %reload_ext sql\n"
     ]
    }
   ],
   "source": [
    "# HIDDEN\n",
    "# Vamos utilizar a extensão ipython-sql junto com o pacote SQLAlchemy para rodar consultas SQL diretamente\n",
    "from sqlalchemy import create_engine\n",
    "path_data = '../../assets/data/'\n",
    "%load_ext sql\n",
    "%config SqlMagic.displaycon=False\n",
    "%config SqlMagic.feedback=False\n",
    "\n",
    "# Agora dizemos para a extensão do ipython-sql onde estão os dados\n",
    "%sql sqlite:///../../../assets/data/northwind.sqlite"
   ]
  },
  {
   "cell_type": "code",
   "execution_count": 7,
   "metadata": {},
   "outputs": [
    {
     "data": {
      "text/html": [
       "<table>\n",
       "    <tr>\n",
       "        <th>Country</th>\n",
       "        <th>cliente</th>\n",
       "    </tr>\n",
       "    <tr>\n",
       "        <td>Argentina</td>\n",
       "        <td>3</td>\n",
       "    </tr>\n",
       "    <tr>\n",
       "        <td>Austria</td>\n",
       "        <td>2</td>\n",
       "    </tr>\n",
       "    <tr>\n",
       "        <td>Belgium</td>\n",
       "        <td>2</td>\n",
       "    </tr>\n",
       "    <tr>\n",
       "        <td>Brazil</td>\n",
       "        <td>9</td>\n",
       "    </tr>\n",
       "    <tr>\n",
       "        <td>Canada</td>\n",
       "        <td>3</td>\n",
       "    </tr>\n",
       "</table>"
      ],
      "text/plain": [
       "[('Argentina', 3),\n",
       " ('Austria', 2),\n",
       " ('Belgium', 2),\n",
       " ('Brazil', 9),\n",
       " ('Canada', 3)]"
      ]
     },
     "execution_count": 7,
     "metadata": {},
     "output_type": "execute_result"
    }
   ],
   "source": [
    "%%sql\n",
    "\n",
    "SELECT Country, COUNT(Id) AS cliente\n",
    "FROM 'Customer'\n",
    "GROUP BY Country\n",
    "LIMIT 5;"
   ]
  },
  {
   "cell_type": "markdown",
   "metadata": {},
   "source": [
    "Vamos entender melhor a sintaxe: na primeira linha da consulta (`SELECT`) nós estamos dizendo ao banco de dados que queremos que ele nos retorne a coluna Country e a contagem de ID de clientes (que sabemos ser única por ser uma chave primária). Na segunda linha dizemos que queremos buscar esses dados da tabela Customer (`FROM`) e por fim dizemos que queremos agrupar por país, ou seja, não queremos mais a contagem de todos os clientes como fizemos na seção anterior mas sim a contagem por país desse cliente. Se rodarmos a consulta vemos que temos 3 clientes da Argentina, 9 do Brasil, 2 da Áustria, etc:"
   ]
  }
 ],
 "metadata": {
  "kernelspec": {
   "display_name": "Python 3.9.5 ('venv': venv)",
   "language": "python",
   "name": "python3"
  },
  "language_info": {
   "codemirror_mode": {
    "name": "ipython",
    "version": 3
   },
   "file_extension": ".py",
   "mimetype": "text/x-python",
   "name": "python",
   "nbconvert_exporter": "python",
   "pygments_lexer": "ipython3",
   "version": "3.9.5"
  },
  "vscode": {
   "interpreter": {
    "hash": "1f018ec1ba574647514081dcb490c63f68e342ee5f5450c4501934abf117bfd5"
   }
  }
 },
 "nbformat": 4,
 "nbformat_minor": 2
}
